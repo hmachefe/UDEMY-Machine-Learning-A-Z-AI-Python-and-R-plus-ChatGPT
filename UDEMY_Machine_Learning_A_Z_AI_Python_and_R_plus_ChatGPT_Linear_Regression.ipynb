{
  "nbformat": 4,
  "nbformat_minor": 0,
  "metadata": {
    "colab": {
      "provenance": [],
      "authorship_tag": "ABX9TyNRiiqFJhwPUSaYsowcKDY3",
      "include_colab_link": true
    },
    "kernelspec": {
      "name": "python3",
      "display_name": "Python 3"
    },
    "language_info": {
      "name": "python"
    }
  },
  "cells": [
    {
      "cell_type": "markdown",
      "metadata": {
        "id": "view-in-github",
        "colab_type": "text"
      },
      "source": [
        "<a href=\"https://colab.research.google.com/github/hmachefe/UDEMY-Machine-Learning-A-Z-AI-Python-and-R-plus-ChatGPT/blob/main/UDEMY_Machine_Learning_A_Z_AI_Python_and_R_plus_ChatGPT_Linear_Regression.ipynb\" target=\"_parent\"><img src=\"https://colab.research.google.com/assets/colab-badge.svg\" alt=\"Open In Colab\"/></a>"
      ]
    },
    {
      "cell_type": "markdown",
      "source": [
        "# Simple Linear Regression"
      ],
      "metadata": {
        "id": "W59WQQaogHTT"
      }
    },
    {
      "cell_type": "markdown",
      "source": [
        "## Importing the libraries"
      ],
      "metadata": {
        "id": "xsLgqCQrgWXU"
      }
    },
    {
      "cell_type": "code",
      "source": [
        "import matplotlib.pyplot as plt\n",
        "import pandas as pd\n",
        "import numpy as np"
      ],
      "metadata": {
        "id": "RMZClUZQgbD_"
      },
      "execution_count": null,
      "outputs": []
    },
    {
      "cell_type": "markdown",
      "source": [
        "## Importing the dataset"
      ],
      "metadata": {
        "id": "IyCDRbjKggUo"
      }
    },
    {
      "cell_type": "code",
      "source": [],
      "metadata": {
        "id": "JbZXNW6eglwe"
      },
      "execution_count": null,
      "outputs": []
    }
  ]
}